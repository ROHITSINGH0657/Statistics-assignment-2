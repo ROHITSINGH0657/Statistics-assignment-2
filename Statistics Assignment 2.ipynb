{
 "cells": [
  {
   "cell_type": "code",
   "execution_count": null,
   "id": "43465b9d-7b06-4b5e-b9a1-4c7f386010a2",
   "metadata": {},
   "outputs": [],
   "source": [
    "Q1. What are the three measures of central tendency?\n",
    "Ans- There are three measure of Central Tendency: Mean, Median, Mode."
   ]
  },
  {
   "cell_type": "raw",
   "id": "471f6b1d-ecf9-4ca2-8fe9-a16e0dcf0b4a",
   "metadata": {},
   "source": [
    "Q2. What is the difference between the mean, median, and mode? How are they used to measure the\n",
    "central tendency of a dataset?\n",
    "Ans- Mean - The average taken of the given dataset is called mean.\n",
    "     Median- The middle number of the given data set of the observation is called median. Median is used when outliers are present \n",
    "    in the dataset.\n",
    "      Mode - The most frequently accurred number in the data set of the observation is called mode.\n",
    "        \n",
    "        We have a set of numbers that is 4, 8, 2, 1, 1, 4, 3, 1.\n",
    "        Mean- (4+8+2+1+1+4+3+1)/8 = 3\n",
    "        Median- 1,1,1,2,3,4,4,8 = 2.5\n",
    "        Mode - 1"
   ]
  },
  {
   "cell_type": "code",
   "execution_count": null,
   "id": "49a254cf-37f7-455d-a7d6-93eec9d7b7bd",
   "metadata": {},
   "outputs": [],
   "source": [
    "Q3. Measure the three measures of central tendency for the given height data?\n",
    "Height=[178,177,176,177,178.2,178,175,179,180,175,178.9,176.2,177,172.5,178,176.5]"
   ]
  },
  {
   "cell_type": "code",
   "execution_count": 8,
   "id": "266f53d5-eb1f-4e4d-8820-c981c5a8c4db",
   "metadata": {},
   "outputs": [
    {
     "data": {
      "text/plain": [
       "177.0"
      ]
     },
     "execution_count": 8,
     "metadata": {},
     "output_type": "execute_result"
    }
   ],
   "source": [
    "Height=[178,177,176,177,178.2,178,175,179,180,175,178.9,176.2,177,172.5,178,176.5]\n",
    "import numpy as np\n",
    "np.mean(Height)"
   ]
  },
  {
   "cell_type": "code",
   "execution_count": 9,
   "id": "5746b9de-a913-43ae-8019-1b044ae6544e",
   "metadata": {},
   "outputs": [
    {
     "data": {
      "text/plain": [
       "177.0"
      ]
     },
     "execution_count": 9,
     "metadata": {},
     "output_type": "execute_result"
    }
   ],
   "source": [
    "np.median(Height)"
   ]
  },
  {
   "cell_type": "code",
   "execution_count": 11,
   "id": "50d40f09-6dc6-4b52-9c06-93cb0c9f09f3",
   "metadata": {},
   "outputs": [
    {
     "name": "stderr",
     "output_type": "stream",
     "text": [
      "/tmp/ipykernel_1789/3583962652.py:2: FutureWarning: Unlike other reduction functions (e.g. `skew`, `kurtosis`), the default behavior of `mode` typically preserves the axis it acts along. In SciPy 1.11.0, this behavior will change: the default value of `keepdims` will become False, the `axis` over which the statistic is taken will be eliminated, and the value None will no longer be accepted. Set `keepdims` to True or False to avoid this warning.\n",
      "  stats.mode(Height)\n"
     ]
    },
    {
     "data": {
      "text/plain": [
       "ModeResult(mode=array([177.]), count=array([3]))"
      ]
     },
     "execution_count": 11,
     "metadata": {},
     "output_type": "execute_result"
    }
   ],
   "source": [
    "from scipy import stats\n",
    "stats.mode(Height)"
   ]
  },
  {
   "cell_type": "code",
   "execution_count": null,
   "id": "69466bab-7ef4-4d5d-b11c-60e2a8b1c4da",
   "metadata": {},
   "outputs": [],
   "source": [
    "Q4. Find the standard deviation for the given data:\n",
    "[178,177,176,177,178.2,178,175,179,180,175,178.9,176.2,177,172.5,178,176.5]"
   ]
  },
  {
   "cell_type": "code",
   "execution_count": 12,
   "id": "3608f678-2667-4175-9847-ef75bf6f5adb",
   "metadata": {},
   "outputs": [
    {
     "data": {
      "text/plain": [
       "1.7885814036548633"
      ]
     },
     "execution_count": 12,
     "metadata": {},
     "output_type": "execute_result"
    }
   ],
   "source": [
    "Height = [178,177,176,177,178.2,178,175,179,180,175,178.9,176.2,177,172.5,178,176.5]\n",
    "import numpy as np\n",
    "np.std(Height)"
   ]
  },
  {
   "cell_type": "code",
   "execution_count": 2,
   "id": "b973af7c-e95b-427f-828b-4b0abc0c9555",
   "metadata": {},
   "outputs": [
    {
     "ename": "SyntaxError",
     "evalue": "invalid syntax (946883276.py, line 1)",
     "output_type": "error",
     "traceback": [
      "\u001b[0;36m  Cell \u001b[0;32mIn[2], line 1\u001b[0;36m\u001b[0m\n\u001b[0;31m    Q5. How are measures of dispersion such as range, variance, and standard deviation used to describe\u001b[0m\n\u001b[0m            ^\u001b[0m\n\u001b[0;31mSyntaxError\u001b[0m\u001b[0;31m:\u001b[0m invalid syntax\n"
     ]
    }
   ],
   "source": [
    "Q5. How are measures of dispersion such as range, variance, and standard deviation used to describe\n",
    "the spread of a dataset? Provide an example.\n",
    "Ans- Measures of dispersion describe the spread of the data. They include the range,standard deviation and variance. \n",
    "\n",
    "The range is given as the smallest and largest observations. This is the simplest measure of variability.\n",
    "\n",
    "Variance - The term variance refers to a statistical measurement of the spread between numbers in a data set. More specifically,\n",
    "variance measures how far each number in the set is from the mean (average), and thus from every other number in the set. \n",
    "\n",
    "Standard deviation - Standard deviation is a statistic that measures the dispersion of a dataset relative to its mean and is \n",
    "calculated as the square root of the variance.\n",
    "\n",
    "Example- Suppose the dataset [12, 12, 14, 15, 16, 18, 18, 20, 20, 25].\n",
    "Range =  25-12=13"
   ]
  },
  {
   "cell_type": "code",
   "execution_count": 3,
   "id": "89e859d4-7147-44f1-952c-4f9baad40f31",
   "metadata": {},
   "outputs": [
    {
     "data": {
      "text/plain": [
       "14.8"
      ]
     },
     "execution_count": 3,
     "metadata": {},
     "output_type": "execute_result"
    }
   ],
   "source": [
    "dataset=[12, 12, 14, 15, 16, 18, 18, 20, 20, 25]\n",
    "import numpy as np\n",
    "np.var(dataset)"
   ]
  },
  {
   "cell_type": "code",
   "execution_count": 4,
   "id": "ff64985d-5cb5-440b-b267-9e472af734a2",
   "metadata": {},
   "outputs": [
    {
     "data": {
      "text/plain": [
       "3.847076812334269"
      ]
     },
     "execution_count": 4,
     "metadata": {},
     "output_type": "execute_result"
    }
   ],
   "source": [
    "np.std(dataset)"
   ]
  },
  {
   "cell_type": "code",
   "execution_count": null,
   "id": "6b56c986-6494-43da-b188-842bcd80e277",
   "metadata": {},
   "outputs": [],
   "source": [
    "Q6. What is a Venn diagram?\n",
    "Ans- A Venn diagram uses overlapping circles or other shapes to illustrate the logical relationships between two or\n",
    "more sets of items."
   ]
  },
  {
   "cell_type": "code",
   "execution_count": null,
   "id": "4bf0c9d9-64dc-4149-a050-c496bc22f05b",
   "metadata": {},
   "outputs": [],
   "source": [
    "Q7. For the two given sets A = (2,3,4,5,6,7) & B = (0,2,6,8,10). Find:\n",
    "Ans- (i) AnB - [2,6]\n",
    "     (ii) A ⋃ B - [0,2,3,4,5,6,7,8,10]"
   ]
  },
  {
   "cell_type": "code",
   "execution_count": null,
   "id": "9f7cf367-d38d-4126-baed-2394679769eb",
   "metadata": {},
   "outputs": [],
   "source": [
    "Q8. What do you understand about skewness in data?\n",
    "Ans- Skewness is a measure of the asymmetry of a distribution. A distribution is asymmetrical when its left and right side are\n",
    "not mirror images. A distribution can have right (or positive), left (or negative), or zero skewness."
   ]
  },
  {
   "cell_type": "code",
   "execution_count": null,
   "id": "724d2f57-566b-4eb4-a7b1-64075e682270",
   "metadata": {},
   "outputs": [],
   "source": [
    "Q9. If a data is right skewed then what will be the position of median with respect to mean?\n",
    "Ans- If the distribution of data is skewed to the right, the mode is often less than the median, which is less than the mean.\n",
    "      Mean>=Median>=Mode"
   ]
  },
  {
   "cell_type": "code",
   "execution_count": null,
   "id": "2e9995ee-0e84-4ecc-9829-824cc83f8b28",
   "metadata": {},
   "outputs": [],
   "source": [
    "Q10. Explain the difference between covariance and correlation. How are these measures used in\n",
    "statistical analysis?\n",
    "Ans- Covariance- Covariance talk about the direction of relationship between the two variables(Positive and Negative).\n",
    "The value of the Covarience lies between +infinity to -infinity.\n",
    "\n",
    "  Correlation- Coorelation is said to be Correlation between two when change in one result in change in another.The value differ\n",
    "    from -1 to +1."
   ]
  },
  {
   "cell_type": "code",
   "execution_count": null,
   "id": "368cef19-8507-4b17-98e6-21b734de0c52",
   "metadata": {},
   "outputs": [],
   "source": [
    "Q11. What is the formula for calculating the sample mean? Provide an example calculation for a\n",
    "dataset.\n",
    "Ans- Sample mean = Xi/n.\n",
    "Dataset= [3,5,1,6,9,10]\n",
    "Xi= 34 ,  n= 6\n",
    "       Sample mean= 34/6= 5.6"
   ]
  },
  {
   "cell_type": "code",
   "execution_count": null,
   "id": "0a23885c-b564-4fb6-93df-52596aed397d",
   "metadata": {},
   "outputs": [],
   "source": [
    "Q12. For a normal distribution data what is the relationship between its measure of central tendency?\n",
    "Ans- The normal distribution is a bell-shaped, symmetrical distribution in which the mean, median and mode are all equal."
   ]
  },
  {
   "cell_type": "code",
   "execution_count": null,
   "id": "18aaa7c5-a587-4cfe-b334-3e972853be86",
   "metadata": {},
   "outputs": [],
   "source": [
    "Q13. How is covariance different from correlation?\n",
    "Ans- Covariance and correlation are two terms that are opposed and are both used in statistics and regression analysis. \n",
    "Covariance shows you how the two variables differ, whereas correlation shows you how the two variables are related.\n",
    "Covariance indicates the direction of the linear relationship between variables while correlation measures both the strength\n",
    "and direction of the linear relationship between two variables."
   ]
  },
  {
   "cell_type": "code",
   "execution_count": null,
   "id": "8bad22a9-a90d-45cd-b8ef-373881336b3d",
   "metadata": {},
   "outputs": [],
   "source": [
    "Q14. How do outliers affect measures of central tendency and dispersion? Provide an example.\n",
    "Ans- Outliers Measures of central tendency and dispersion can give misleading impressions of a data set if the set contains\n",
    "one or more outliers. An outlier is a value that is much greater than or much less than most of the other values in a data set.\n",
    "\n",
    "Dataset= [2,5,7,9,10,6]\n",
    "\n",
    "Mean= (2+5+7+9+10+6)/6 = 6.5\n",
    "Median= (7+9)/2= 8\n",
    "\n",
    "If Outliers are present in dataset=[2,5,7,9,10,6,100]\n",
    "Mean= (2+5+7+9+10+6+100)/7 = 19.85\n",
    "Median= 9\n",
    "Mean of the 1st dataset(6.5) is much less than from mean of the 2nd dataset(19.85).thatmeans Outliers are much effect \n",
    "the mean value.\n",
    "Measures of central tendency are mean, median and mode. Outliers affect the mean value of the data but have little effect on \n",
    "the median or mode of a given set of data."
   ]
  }
 ],
 "metadata": {
  "kernelspec": {
   "display_name": "Python 3 (ipykernel)",
   "language": "python",
   "name": "python3"
  },
  "language_info": {
   "codemirror_mode": {
    "name": "ipython",
    "version": 3
   },
   "file_extension": ".py",
   "mimetype": "text/x-python",
   "name": "python",
   "nbconvert_exporter": "python",
   "pygments_lexer": "ipython3",
   "version": "3.10.8"
  }
 },
 "nbformat": 4,
 "nbformat_minor": 5
}
